{
  "nbformat": 4,
  "nbformat_minor": 0,
  "metadata": {
    "colab": {
      "provenance": [],
      "include_colab_link": true
    },
    "kernelspec": {
      "name": "python3",
      "display_name": "Python 3"
    },
    "language_info": {
      "name": "python"
    }
  },
  "cells": [
    {
      "cell_type": "markdown",
      "metadata": {
        "id": "view-in-github",
        "colab_type": "text"
      },
      "source": [
        "<a href=\"https://colab.research.google.com/github/bsheese/377-AppliedDataAnalysis/blob/master/ds395_f23_get_kaggle_data.ipynb\" target=\"_parent\"><img src=\"https://colab.research.google.com/assets/colab-badge.svg\" alt=\"Open In Colab\"/></a>"
      ]
    },
    {
      "cell_type": "markdown",
      "source": [
        "# Get Data From Kaggle - Place in Google Drive Location\n",
        "* you will need a kaggle apit token for this\n",
        "* for Kaggle competitions you need to accept the terms of the competions before you make the api, there may be multiple thigns you need to accept\n"
      ],
      "metadata": {
        "id": "-E_YVRLq8GhF"
      }
    },
    {
      "cell_type": "markdown",
      "source": [
        "## Step 1: Set Variables"
      ],
      "metadata": {
        "id": "7agFdRYo-Sjz"
      }
    },
    {
      "cell_type": "code",
      "source": [
        "# kaggle token\n",
        "API_TOKEN = {\"username\":\"titanvr1\",\"key\":\"e237f2dc0850e91c6f453514b5a9353f\"}\n",
        "\n",
        "# data destination in drive\n",
        "project_name = 'home_credit_default_risk'\n",
        "folder_path = \"/content/drive/My Drive/datasets/\"\n",
        "project_path = folder_path + project_name"
      ],
      "metadata": {
        "id": "eDGWI-RA-XX7"
      },
      "execution_count": null,
      "outputs": []
    },
    {
      "cell_type": "markdown",
      "source": [
        "## Step 1: Mount Drive"
      ],
      "metadata": {
        "id": "u0nrkb2K9uyR"
      }
    },
    {
      "cell_type": "code",
      "source": [
        "from google.colab import drive\n",
        "\n",
        "# mount drive\n",
        "drive.mount('/content/drive')\n"
      ],
      "metadata": {
        "colab": {
          "base_uri": "https://localhost:8080/"
        },
        "id": "vrG_VBxD9uBf",
        "outputId": "8a44df5b-c654-416f-a4f7-d516254511cd"
      },
      "execution_count": null,
      "outputs": [
        {
          "output_type": "stream",
          "name": "stdout",
          "text": [
            "Drive already mounted at /content/drive; to attempt to forcibly remount, call drive.mount(\"/content/drive\", force_remount=True).\n"
          ]
        }
      ]
    },
    {
      "cell_type": "markdown",
      "source": [
        "## Step 2: Check if Project Folder Exists"
      ],
      "metadata": {
        "id": "oixbv_3s-J79"
      }
    },
    {
      "cell_type": "code",
      "source": [
        "import os\n",
        "\n",
        "# check if the project folder exists. If not, create it.\n",
        "if not os.path.exists(project_path):\n",
        "    os.makedirs(project_path)\n",
        "    print(f\"Folder {project_path} created\")\n",
        "else:\n",
        "    print(f\"Folder {project_path} already exists\")"
      ],
      "metadata": {
        "colab": {
          "base_uri": "https://localhost:8080/"
        },
        "id": "jPk9c60m8Lbe",
        "outputId": "193cfe0f-8f58-4f86-e809-c6c64551e728"
      },
      "execution_count": null,
      "outputs": [
        {
          "output_type": "stream",
          "name": "stdout",
          "text": [
            "Folder /content/drive/My Drive/datasets/home_credit_default_risk already exists\n"
          ]
        }
      ]
    },
    {
      "cell_type": "markdown",
      "source": [
        "# Step 3: Check if Data Exists, If Not Download - This DOES NOT WORK FOR HOUSING DEFAULT"
      ],
      "metadata": {
        "id": "eEI6G1cv--Zs"
      }
    },
    {
      "cell_type": "code",
      "source": [
        "import json\n",
        "\n",
        "# function to set up authentication for kaggle\n",
        "def kaggle_colab_key_creation(api_token):\n",
        "\n",
        "  kfile_path = \"/root/.kaggle/kaggle.json\"\n",
        "\n",
        "  if os.path.exists(kfile_path) and os.path.isfile(kfile_path):\n",
        "    print('found kaggle key')\n",
        "\n",
        "  else:\n",
        "    !rm -r ~/.kaggle\n",
        "    !mkdir ~/.kaggle\n",
        "    !touch ~/.kaggle/kaggle.json\n",
        "\n",
        "    with open('/root/.kaggle/kaggle.json', 'w') as file:\n",
        "      json.dump(api_token, file)\n",
        "\n",
        "    !chmod 600 ~/.kaggle/kaggle.json\n",
        "    print('created kaggle key')\n",
        "\n",
        "# check to see if project folder has data in it, if not create and download data\n",
        "# TODO: retest this\n",
        "\n",
        "if not os.listdir(project_path):  # os.listdir() returns a list of the names of the entries in the directory\n",
        "    print(\"Folder is empty! Setting up kaggle authentication\")\n",
        "    kaggle_colab_key_creation(API_TOKEN)\n",
        "    print(\"Downloading data\")\n",
        "    !kaggle competitions download -c home-credit-default-risk -p {project_path}\n",
        "    #kaggle competitions download -c home-credit-default-risk\n",
        "\n",
        "else:\n",
        "    print(f\"Folder is not empty! Folder contains: {os.listdir()} \")"
      ],
      "metadata": {
        "colab": {
          "base_uri": "https://localhost:8080/"
        },
        "id": "5UF6T-7Y_JKZ",
        "outputId": "de1b711a-702d-444f-ae89-5b3e61265489"
      },
      "execution_count": null,
      "outputs": [
        {
          "output_type": "stream",
          "name": "stdout",
          "text": [
            "Folder is empty! Setting up kaggle authentication\n",
            "found kaggle key\n",
            "Downloading data\n",
            "403 - Forbidden - Permission 'competitions.participate' was denied\n",
            "Extracting data\n",
            "unzip:  cannot find or open /content/drive/MyDrive/datasets/home_credit_default_risk/home-credit-default-risk.zip, /content/drive/MyDrive/datasets/home_credit_default_risk/home-credit-default-risk.zip.zip or /content/drive/MyDrive/datasets/home_credit_default_risk/home-credit-default-risk.zip.ZIP.\n"
          ]
        }
      ]
    },
    {
      "cell_type": "markdown",
      "source": [
        "# Unzip the Data"
      ],
      "metadata": {
        "id": "xxmpijQjFDBG"
      }
    },
    {
      "cell_type": "code",
      "source": [
        "!unzip /content/drive/MyDrive/datasets/home-credit-default-risk.zip -d /content/drive/MyDrive/datasets/home_credit_default_risk\n"
      ],
      "metadata": {
        "colab": {
          "base_uri": "https://localhost:8080/"
        },
        "id": "Dwi0EPwIDmfq",
        "outputId": "4a5b0ec5-f603-4220-bdc3-b75d445075e1"
      },
      "execution_count": null,
      "outputs": [
        {
          "output_type": "stream",
          "name": "stdout",
          "text": [
            "Archive:  /content/drive/MyDrive/datasets/home-credit-default-risk.zip\n",
            "  inflating: /content/drive/MyDrive/datasets/home_credit_default_risk/HomeCredit_columns_description.csv  \n",
            "  inflating: /content/drive/MyDrive/datasets/home_credit_default_risk/POS_CASH_balance.csv  \n",
            "  inflating: /content/drive/MyDrive/datasets/home_credit_default_risk/application_test.csv  \n",
            "  inflating: /content/drive/MyDrive/datasets/home_credit_default_risk/application_train.csv  \n",
            "  inflating: /content/drive/MyDrive/datasets/home_credit_default_risk/bureau.csv  \n",
            "  inflating: /content/drive/MyDrive/datasets/home_credit_default_risk/bureau_balance.csv  \n",
            "  inflating: /content/drive/MyDrive/datasets/home_credit_default_risk/credit_card_balance.csv  \n",
            "  inflating: /content/drive/MyDrive/datasets/home_credit_default_risk/installments_payments.csv  \n",
            "  inflating: /content/drive/MyDrive/datasets/home_credit_default_risk/previous_application.csv  \n",
            "  inflating: /content/drive/MyDrive/datasets/home_credit_default_risk/sample_submission.csv  \n"
          ]
        }
      ]
    }
  ]
}