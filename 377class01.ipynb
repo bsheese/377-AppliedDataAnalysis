{
  "nbformat": 4,
  "nbformat_minor": 0,
  "metadata": {
    "colab": {
      "name": "377class01.ipynb",
      "version": "0.3.2",
      "provenance": [],
      "toc_visible": true,
      "include_colab_link": true
    },
    "kernelspec": {
      "name": "python3",
      "display_name": "Python 3"
    }
  },
  "cells": [
    {
      "cell_type": "markdown",
      "metadata": {
        "id": "view-in-github",
        "colab_type": "text"
      },
      "source": [
        "<a href=\"https://colab.research.google.com/github/bsheese/377-AppliedDataAnalysis/blob/master/377class01.ipynb\" target=\"_parent\"><img src=\"https://colab.research.google.com/assets/colab-badge.svg\" alt=\"Open In Colab\"/></a>"
      ]
    },
    {
      "cell_type": "markdown",
      "metadata": {
        "id": "F9fjELXAvujH",
        "colab_type": "text"
      },
      "source": [
        "# 377: Fun Data Survey\n"
      ]
    },
    {
      "cell_type": "code",
      "metadata": {
        "id": "PbH6HjuRueXo",
        "colab_type": "code",
        "colab": {
          "base_uri": "https://localhost:8080/",
          "height": 561
        },
        "outputId": "d2f04136-8d97-4eb1-8096-621c2fed4caf"
      },
      "source": [
        "# imports\n",
        "import pandas as pd\n",
        "\n",
        "# imports the data from a google sheet conversion from the original csv\n",
        "# code from here: https://stackoverflow.com/questions/19611729/\n",
        "\n",
        "sheet_url = 'https://docs.google.com/spreadsheets/d/1ip_dVSgO2JtStc5z8AojBUxHLpi17dtPNygNPaLgY58/edit#gid=1559170894'\n",
        "csv_export_url = sheet_url.replace('/edit#gid=', '/export?format=csv&gid=')\n",
        "\n",
        "# Note: using 'df' for the dataframe is the common convention\n",
        "df = pd.read_csv(csv_export_url)\n",
        "\n",
        "# Check dataframe\n",
        "df.head()"
      ],
      "execution_count": 1,
      "outputs": [
        {
          "output_type": "execute_result",
          "data": {
            "text/html": [
              "<div>\n",
              "<style scoped>\n",
              "    .dataframe tbody tr th:only-of-type {\n",
              "        vertical-align: middle;\n",
              "    }\n",
              "\n",
              "    .dataframe tbody tr th {\n",
              "        vertical-align: top;\n",
              "    }\n",
              "\n",
              "    .dataframe thead th {\n",
              "        text-align: right;\n",
              "    }\n",
              "</style>\n",
              "<table border=\"1\" class=\"dataframe\">\n",
              "  <thead>\n",
              "    <tr style=\"text-align: right;\">\n",
              "      <th></th>\n",
              "      <th>Timestamp</th>\n",
              "      <th>Who is your favorite music artist (broadly defined)?</th>\n",
              "      <th>What physical height would you like to be?</th>\n",
              "      <th>If you had to live in city, but could pick any city in the world, what city would you live in?</th>\n",
              "      <th>If you could have 30 minutes to talk with any person, living or dead, who would you pick?</th>\n",
              "      <th>If you could travel to any location in the world for vacation, where would you go?</th>\n",
              "      <th>On a scale of 1 (gross) to five (awesome) how much do you like pizza?</th>\n",
              "      <th>Is Chicago-style deep dish actually pizza or is it really casserole?</th>\n",
              "      <th>What sport do you most enjoy watching?</th>\n",
              "      <th>Which is the most difficult to spell?</th>\n",
              "      <th>What is the optimal number of people to hang out with?</th>\n",
              "      <th>Do you think you talk more or less than the average person?</th>\n",
              "      <th>If you had a time machine and could visit any year you like, which year would you pick?</th>\n",
              "      <th>What's you favorite inspirational quote? You don't need to do this from memory. Feel free to look something up and then paste it in here.</th>\n",
              "    </tr>\n",
              "  </thead>\n",
              "  <tbody>\n",
              "    <tr>\n",
              "      <th>0</th>\n",
              "      <td>8/27/2018 13:54:50</td>\n",
              "      <td>LSTNYT</td>\n",
              "      <td>5'9 because then I could model</td>\n",
              "      <td>Tokyo</td>\n",
              "      <td>Prince dead, living Miguel</td>\n",
              "      <td>Spain</td>\n",
              "      <td>5</td>\n",
              "      <td>pizza</td>\n",
              "      <td>Gymnastics</td>\n",
              "      <td>daiquiri</td>\n",
              "      <td>5</td>\n",
              "      <td>More</td>\n",
              "      <td>Future, no options for me in the past</td>\n",
              "      <td>Treat yo self</td>\n",
              "    </tr>\n",
              "    <tr>\n",
              "      <th>1</th>\n",
              "      <td>8/27/2018 14:11:00</td>\n",
              "      <td>MJ</td>\n",
              "      <td>5 foot 9. I am 5 foot 7</td>\n",
              "      <td>LA</td>\n",
              "      <td>Bruce Lee</td>\n",
              "      <td>Normandy</td>\n",
              "      <td>3</td>\n",
              "      <td>no opinion</td>\n",
              "      <td>Basketball</td>\n",
              "      <td>hors d'oeuvre</td>\n",
              "      <td>2</td>\n",
              "      <td>Less</td>\n",
              "      <td>2050</td>\n",
              "      <td>Accept it is to be liberated from it, when tom...</td>\n",
              "    </tr>\n",
              "    <tr>\n",
              "      <th>2</th>\n",
              "      <td>8/27/2018 14:14:23</td>\n",
              "      <td>Il Volo</td>\n",
              "      <td>5'2\"</td>\n",
              "      <td>Chicago</td>\n",
              "      <td>Dmitri Shostakovich</td>\n",
              "      <td>Vienna, Austria</td>\n",
              "      <td>4</td>\n",
              "      <td>pizza</td>\n",
              "      <td>Hockey</td>\n",
              "      <td>hors d'oeuvre</td>\n",
              "      <td>3</td>\n",
              "      <td>Less</td>\n",
              "      <td>1919</td>\n",
              "      <td>Relatable composer quote from Richard Strauss:...</td>\n",
              "    </tr>\n",
              "    <tr>\n",
              "      <th>3</th>\n",
              "      <td>8/27/2018 14:26:51</td>\n",
              "      <td>Jon Belllion</td>\n",
              "      <td>6'1\"</td>\n",
              "      <td>Bar Harbor, ME</td>\n",
              "      <td>Theodore Roosevelt</td>\n",
              "      <td>New Zealand</td>\n",
              "      <td>4</td>\n",
              "      <td>pizza</td>\n",
              "      <td>Football</td>\n",
              "      <td>hors d'oeuvre</td>\n",
              "      <td>4</td>\n",
              "      <td>Less</td>\n",
              "      <td>1776</td>\n",
              "      <td>\"Good leaders don't make excuses. Instead, the...</td>\n",
              "    </tr>\n",
              "    <tr>\n",
              "      <th>4</th>\n",
              "      <td>8/27/2018 15:05:00</td>\n",
              "      <td>Queen</td>\n",
              "      <td>1.7m</td>\n",
              "      <td>Shanghai</td>\n",
              "      <td>Konosuke Matsushita</td>\n",
              "      <td>Austrailia</td>\n",
              "      <td>4</td>\n",
              "      <td>casserole</td>\n",
              "      <td>Soccer</td>\n",
              "      <td>hors d'oeuvre</td>\n",
              "      <td>3</td>\n",
              "      <td>Less</td>\n",
              "      <td>1985</td>\n",
              "      <td>Believe in yourself. You are braver than you t...</td>\n",
              "    </tr>\n",
              "  </tbody>\n",
              "</table>\n",
              "</div>"
            ],
            "text/plain": [
              "            Timestamp  ... What's you favorite inspirational quote? You don't need to do this from memory. Feel free to look something up and then paste it in here. \n",
              "0  8/27/2018 13:54:50  ...                                      Treat yo self                                                                                        \n",
              "1  8/27/2018 14:11:00  ...  Accept it is to be liberated from it, when tom...                                                                                        \n",
              "2  8/27/2018 14:14:23  ...  Relatable composer quote from Richard Strauss:...                                                                                        \n",
              "3  8/27/2018 14:26:51  ...  \"Good leaders don't make excuses. Instead, the...                                                                                        \n",
              "4  8/27/2018 15:05:00  ...  Believe in yourself. You are braver than you t...                                                                                        \n",
              "\n",
              "[5 rows x 14 columns]"
            ]
          },
          "metadata": {
            "tags": []
          },
          "execution_count": 1
        }
      ]
    },
    {
      "cell_type": "markdown",
      "metadata": {
        "id": "EA_bUASjwGJu",
        "colab_type": "text"
      },
      "source": [
        "##Step 1: Look at the code below as a group, guess what it will do, then run the code to check. Interpret each part of the resulting output. (What does each part tell you?)"
      ]
    },
    {
      "cell_type": "code",
      "metadata": {
        "id": "KGKmdhE2wRTm",
        "colab_type": "code",
        "colab": {
          "base_uri": "https://localhost:8080/",
          "height": 363
        },
        "outputId": "3e72aea1-a2c8-43eb-9ab9-fc4a67e14115"
      },
      "source": [
        "df.info()"
      ],
      "execution_count": 2,
      "outputs": [
        {
          "output_type": "stream",
          "text": [
            "<class 'pandas.core.frame.DataFrame'>\n",
            "RangeIndex: 53 entries, 0 to 52\n",
            "Data columns (total 14 columns):\n",
            "Timestamp                                                                                                                                     53 non-null object\n",
            "Who is your favorite music artist (broadly defined)?                                                                                          49 non-null object\n",
            "What physical height would you like to be?                                                                                                    53 non-null object\n",
            "If you had to live in city, but could pick any city in the world, what city would you live in?                                                53 non-null object\n",
            "If you could have 30 minutes to talk with any person, living or dead, who would you pick?                                                     45 non-null object\n",
            "If you could travel to any location in the world for vacation, where would you go?                                                            52 non-null object\n",
            "On a scale of 1 (gross) to five (awesome) how much do you like pizza?                                                                         53 non-null int64\n",
            "Is Chicago-style deep dish actually pizza or is it really casserole?                                                                          53 non-null object\n",
            "What sport do you most enjoy watching?                                                                                                        48 non-null object\n",
            "Which is the most difficult to spell?                                                                                                         53 non-null object\n",
            "What is the optimal number of people to hang out with?                                                                                        53 non-null object\n",
            "Do you think you talk more or less than the average person?                                                                                   53 non-null object\n",
            "If you had a time machine and could visit any year you like, which year would you pick?                                                       50 non-null object\n",
            "What's you favorite inspirational quote? You don't need to do this from memory. Feel free to look something up and then paste it in here.     48 non-null object\n",
            "dtypes: int64(1), object(13)\n",
            "memory usage: 5.9+ KB\n"
          ],
          "name": "stdout"
        }
      ]
    },
    {
      "cell_type": "markdown",
      "metadata": {
        "id": "arxVLZqLwUaW",
        "colab_type": "text"
      },
      "source": [
        "##Step 2: Look at the code below as a group, guess what it will do, then run the code to check."
      ]
    },
    {
      "cell_type": "code",
      "metadata": {
        "id": "KZhUhPZwwT7-",
        "colab_type": "code",
        "colab": {
          "base_uri": "https://localhost:8080/",
          "height": 363
        },
        "outputId": "bc05f0fb-dfad-4501-e3d4-e256b4489400"
      },
      "source": [
        "columns_old = df.columns.copy()\n",
        "  \n",
        "abbreviatedcol = ['timestamp','artist','height','citylive','30mintalk',\n",
        "                  'vacation','likepizza','deepdish','sportwatch','hardtospell',\n",
        "                 'hangout','talk','timetravel','quote']\n",
        "\n",
        "df.columns = abbreviatedcol\n",
        "\n",
        "df.info()"
      ],
      "execution_count": 4,
      "outputs": [
        {
          "output_type": "stream",
          "text": [
            "<class 'pandas.core.frame.DataFrame'>\n",
            "RangeIndex: 53 entries, 0 to 52\n",
            "Data columns (total 14 columns):\n",
            "timestamp      53 non-null object\n",
            "artist         49 non-null object\n",
            "height         53 non-null object\n",
            "citylive       53 non-null object\n",
            "30mintalk      45 non-null object\n",
            "vacation       52 non-null object\n",
            "likepizza      53 non-null int64\n",
            "deepdish       53 non-null object\n",
            "sportwatch     48 non-null object\n",
            "hardtospell    53 non-null object\n",
            "hangout        53 non-null object\n",
            "talk           53 non-null object\n",
            "timetravel     50 non-null object\n",
            "quote          48 non-null object\n",
            "dtypes: int64(1), object(13)\n",
            "memory usage: 5.9+ KB\n"
          ],
          "name": "stdout"
        }
      ]
    },
    {
      "cell_type": "markdown",
      "metadata": {
        "colab_type": "text",
        "id": "LGwSr6I4IJHq"
      },
      "source": [
        "##Step 3: Look at the code below as a group, guess what it will do, then run the code to check. What do the results mean?"
      ]
    },
    {
      "cell_type": "code",
      "metadata": {
        "id": "WSsoEm_nGvQv",
        "colab_type": "code",
        "colab": {
          "base_uri": "https://localhost:8080/",
          "height": 72
        },
        "outputId": "7a2d9c97-7ae6-4d6f-e36c-5330b9399f58"
      },
      "source": [
        "df['talk'].value_counts()"
      ],
      "execution_count": 12,
      "outputs": [
        {
          "output_type": "execute_result",
          "data": {
            "text/plain": [
              "Less    32\n",
              "More    21\n",
              "Name: talk, dtype: int64"
            ]
          },
          "metadata": {
            "tags": []
          },
          "execution_count": 12
        }
      ]
    },
    {
      "cell_type": "markdown",
      "metadata": {
        "id": "QNNLvWztGpTR",
        "colab_type": "text"
      },
      "source": [
        "##Step 4: Look at the code below as a group, guess what it will do, then run the code to check. What do the results mean?"
      ]
    },
    {
      "cell_type": "code",
      "metadata": {
        "id": "5J771exlIdwD",
        "colab_type": "code",
        "colab": {
          "base_uri": "https://localhost:8080/",
          "height": 54
        },
        "outputId": "67c8390a-d7f0-463a-fb6b-81808a224989"
      },
      "source": [
        "df['likepizza'].mean()"
      ],
      "execution_count": 14,
      "outputs": [
        {
          "output_type": "execute_result",
          "data": {
            "text/plain": [
              "likepizza    4.358491\n",
              "dtype: float64"
            ]
          },
          "metadata": {
            "tags": []
          },
          "execution_count": 14
        }
      ]
    },
    {
      "cell_type": "markdown",
      "metadata": {
        "id": "21bg0xWFJusp",
        "colab_type": "text"
      },
      "source": [
        "##Step 5: Look at the code below as a group, guess what it will do, then run the code to check. What do the results mean?"
      ]
    },
    {
      "cell_type": "code",
      "metadata": {
        "id": "HjKg9sdRI2Cj",
        "colab_type": "code",
        "colab": {
          "base_uri": "https://localhost:8080/",
          "height": 287
        },
        "outputId": "b0772a13-0989-4137-820c-908c3d77dc16"
      },
      "source": [
        "df['likepizza'].hist()"
      ],
      "execution_count": 23,
      "outputs": [
        {
          "output_type": "execute_result",
          "data": {
            "text/plain": [
              "<matplotlib.axes._subplots.AxesSubplot at 0x7f8891ba1128>"
            ]
          },
          "metadata": {
            "tags": []
          },
          "execution_count": 23
        },
        {
          "output_type": "display_data",
          "data": {
            "image/png": "[encoded data removed]",
            "text/plain": [
              "<Figure size 432x288 with 1 Axes>"
            ]
          },
          "metadata": {
            "tags": []
          }
        }
      ]
    },
    {
      "cell_type": "markdown",
      "metadata": {
        "id": "SR7ISnUEK09Y",
        "colab_type": "text"
      },
      "source": [
        "##Step 6: Look at the code below as a group, guess what it will do, then run the code to check. What do the results mean? What do the axes represent? What's wrong with the result?"
      ]
    },
    {
      "cell_type": "code",
      "metadata": {
        "id": "dKmFTuXFKNDx",
        "colab_type": "code",
        "colab": {
          "base_uri": "https://localhost:8080/",
          "height": 299
        },
        "outputId": "b0f669c8-2467-4b63-a148-2af0a5805906"
      },
      "source": [
        "df['hangout'].value_counts().plot.bar()"
      ],
      "execution_count": 30,
      "outputs": [
        {
          "output_type": "execute_result",
          "data": {
            "text/plain": [
              "<matplotlib.axes._subplots.AxesSubplot at 0x7f8891ad8320>"
            ]
          },
          "metadata": {
            "tags": []
          },
          "execution_count": 30
        },
        {
          "output_type": "display_data",
          "data": {
            "image/png": "[encoded data removed]",
            "text/plain": [
              "<Figure size 432x288 with 1 Axes>"
            ]
          },
          "metadata": {
            "tags": []
          }
        }
      ]
    },
    {
      "cell_type": "markdown",
      "metadata": {
        "id": "8e4CacnJLupG",
        "colab_type": "text"
      },
      "source": [
        "##Step 7: Look at the code below as a group, guess what it will do, then run the code to check. What's wrong with the result?"
      ]
    },
    {
      "cell_type": "code",
      "metadata": {
        "id": "H8aQMD3VL1Al",
        "colab_type": "code",
        "colab": {
          "base_uri": "https://localhost:8080/",
          "height": 299
        },
        "outputId": "ff6e70a4-769e-40f9-c0ea-f58575ed0ed6"
      },
      "source": [
        "df['hangout'].value_counts().sort_index().plot.bar()"
      ],
      "execution_count": 35,
      "outputs": [
        {
          "output_type": "execute_result",
          "data": {
            "text/plain": [
              "<matplotlib.axes._subplots.AxesSubplot at 0x7f88915090f0>"
            ]
          },
          "metadata": {
            "tags": []
          },
          "execution_count": 35
        },
        {
          "output_type": "display_data",
          "data": {
            "image/png": "[encoded data removed]",
            "text/plain": [
              "<Figure size 432x288 with 1 Axes>"
            ]
          },
          "metadata": {
            "tags": []
          }
        }
      ]
    },
    {
      "cell_type": "markdown",
      "metadata": {
        "id": "Sta1J-AYOrVB",
        "colab_type": "text"
      },
      "source": [
        "##Step 8: Look at the code below as a group, guess what it will do, then run the code to check. What do the results mean?"
      ]
    },
    {
      "cell_type": "code",
      "metadata": {
        "id": "YDDj3gVaMbZ1",
        "colab_type": "code",
        "colab": {
          "base_uri": "https://localhost:8080/",
          "height": 294
        },
        "outputId": "3d669849-c493-40d9-aedd-8f5f8ae3182a"
      },
      "source": [
        "hangoutint = pd.to_numeric(df['hangout'],errors='coerce')\n",
        "hangoutint.value_counts().sort_index().plot.bar()"
      ],
      "execution_count": 44,
      "outputs": [
        {
          "output_type": "execute_result",
          "data": {
            "text/plain": [
              "<matplotlib.axes._subplots.AxesSubplot at 0x7f88912d1f98>"
            ]
          },
          "metadata": {
            "tags": []
          },
          "execution_count": 44
        },
        {
          "output_type": "display_data",
          "data": {
            "image/png": "[encoded data removed]",
            "text/plain": [
              "<Figure size 432x288 with 1 Axes>"
            ]
          },
          "metadata": {
            "tags": []
          }
        }
      ]
    },
    {
      "cell_type": "code",
      "metadata": {
        "id": "Pis6QFpqOkG5",
        "colab_type": "code",
        "colab": {
          "base_uri": "https://localhost:8080/",
          "height": 999
        },
        "outputId": "af885d13-7b56-4f60-d900-36bdbc69d430"
      },
      "source": [
        "hangoutint"
      ],
      "execution_count": 45,
      "outputs": [
        {
          "output_type": "execute_result",
          "data": {
            "text/plain": [
              "0     5.0\n",
              "1     2.0\n",
              "2     3.0\n",
              "3     4.0\n",
              "4     3.0\n",
              "5     3.0\n",
              "6     5.0\n",
              "7     5.0\n",
              "8     4.0\n",
              "9     3.0\n",
              "10    NaN\n",
              "11    5.0\n",
              "12    7.0\n",
              "13    6.0\n",
              "14    4.0\n",
              "15    2.0\n",
              "16    4.0\n",
              "17    4.0\n",
              "18    5.0\n",
              "19    4.0\n",
              "20    1.0\n",
              "21    3.0\n",
              "22    9.0\n",
              "23    5.0\n",
              "24    4.0\n",
              "25    3.0\n",
              "26    6.0\n",
              "27    3.0\n",
              "28    3.0\n",
              "29    3.0\n",
              "30    NaN\n",
              "31    3.0\n",
              "32    3.0\n",
              "33    4.0\n",
              "34    2.0\n",
              "35    4.0\n",
              "36    2.0\n",
              "37    6.0\n",
              "38    3.0\n",
              "39    5.0\n",
              "40    3.0\n",
              "41    4.0\n",
              "42    4.0\n",
              "43    4.0\n",
              "44    5.0\n",
              "45    4.0\n",
              "46    3.0\n",
              "47    4.0\n",
              "48    6.0\n",
              "49    NaN\n",
              "50    3.0\n",
              "51    3.0\n",
              "52    3.0\n",
              "Name: hangout, dtype: float64"
            ]
          },
          "metadata": {
            "tags": []
          },
          "execution_count": 45
        }
      ]
    }
  ]
}