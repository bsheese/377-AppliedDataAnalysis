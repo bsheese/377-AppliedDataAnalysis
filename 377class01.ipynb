{
  "nbformat": 4,
  "nbformat_minor": 0,
  "metadata": {
    "colab": {
      "name": "377class01.ipynb",
      "version": "0.3.2",
      "provenance": [],
      "toc_visible": true,
      "include_colab_link": true
    },
    "kernelspec": {
      "name": "python3",
      "display_name": "Python 3"
    }
  },
  "cells": [
    {
      "cell_type": "markdown",
      "metadata": {
        "id": "view-in-github",
        "colab_type": "text"
      },
      "source": [
        "<a href=\"https://colab.research.google.com/github/bsheese/377-AppliedDataAnalysis/blob/master/377class01.ipynb\" target=\"_parent\"><img src=\"https://colab.research.google.com/assets/colab-badge.svg\" alt=\"Open In Colab\"/></a>"
      ]
    },
    {
      "cell_type": "markdown",
      "metadata": {
        "id": "F9fjELXAvujH",
        "colab_type": "text"
      },
      "source": [
        "# 377: Fun Data Survey\n"
      ]
    },
    {
      "cell_type": "code",
      "metadata": {
        "id": "PbH6HjuRueXo",
        "colab_type": "code",
        "colab": {}
      },
      "source": [
        "# imports\n",
        "import pandas as pd\n",
        "\n",
        "# imports the data from a google sheet conversion from the original csv\n",
        "# code from here: https://stackoverflow.com/questions/19611729/\n",
        "\n",
        "sheet_url = 'https://docs.google.com/spreadsheets/d/1ip_dVSgO2JtStc5z8AojBUxHLpi17dtPNygNPaLgY58/edit#gid=1559170894'\n",
        "csv_export_url = sheet_url.replace('/edit#gid=', '/export?format=csv&gid=')\n",
        "\n",
        "# Note: using 'df' for the dataframe is the common convention\n",
        "df = pd.read_csv(csv_export_url)\n",
        "\n",
        "# Check dataframe\n",
        "df.head()"
      ],
      "execution_count": 0,
      "outputs": []
    },
    {
      "cell_type": "markdown",
      "metadata": {
        "id": "EA_bUASjwGJu",
        "colab_type": "text"
      },
      "source": [
        "##Step 1: Look at the code below as a group, guess what it will do, then run the code to check. Interpret each part of the resulting output. (What does each part tell you?)"
      ]
    },
    {
      "cell_type": "code",
      "metadata": {
        "id": "KGKmdhE2wRTm",
        "colab_type": "code",
        "colab": {}
      },
      "source": [
        "df.info()"
      ],
      "execution_count": 0,
      "outputs": []
    },
    {
      "cell_type": "markdown",
      "metadata": {
        "id": "arxVLZqLwUaW",
        "colab_type": "text"
      },
      "source": [
        "##Step 2: Look at the code below as a group, guess what it will do, then run the code to check."
      ]
    },
    {
      "cell_type": "code",
      "metadata": {
        "id": "KZhUhPZwwT7-",
        "colab_type": "code",
        "colab": {}
      },
      "source": [
        "columns_old = df.columns.copy()\n",
        "  \n",
        "abbreviatedcol = ['timestamp','artist','height','citylive','30mintalk',\n",
        "                  'vacation','likepizza','deepdish','sportwatch','hardtospell',\n",
        "                 'hangout','talk','timetravel','quote']\n",
        "\n",
        "df.columns = abbreviatedcol\n",
        "\n",
        "df.info()"
      ],
      "execution_count": 0,
      "outputs": []
    },
    {
      "cell_type": "markdown",
      "metadata": {
        "colab_type": "text",
        "id": "LGwSr6I4IJHq"
      },
      "source": [
        "##Step 3: Look at the code below as a group, guess what it will do, then run the code to check. What do the results mean?"
      ]
    },
    {
      "cell_type": "code",
      "metadata": {
        "id": "WSsoEm_nGvQv",
        "colab_type": "code",
        "colab": {}
      },
      "source": [
        "df['talk'].value_counts()"
      ],
      "execution_count": 0,
      "outputs": []
    },
    {
      "cell_type": "markdown",
      "metadata": {
        "id": "QNNLvWztGpTR",
        "colab_type": "text"
      },
      "source": [
        "##Step 4: Look at the code below as a group, guess what it will do, then run the code to check. What do the results mean?"
      ]
    },
    {
      "cell_type": "code",
      "metadata": {
        "id": "5J771exlIdwD",
        "colab_type": "code",
        "colab": {}
      },
      "source": [
        "df['likepizza'].mean()"
      ],
      "execution_count": 0,
      "outputs": []
    },
    {
      "cell_type": "markdown",
      "metadata": {
        "id": "21bg0xWFJusp",
        "colab_type": "text"
      },
      "source": [
        "##Step 5: Look at the code below as a group, guess what it will do, then run the code to check. What do the results mean?"
      ]
    },
    {
      "cell_type": "code",
      "metadata": {
        "id": "HjKg9sdRI2Cj",
        "colab_type": "code",
        "colab": {}
      },
      "source": [
        "df['likepizza'].hist()"
      ],
      "execution_count": 0,
      "outputs": []
    },
    {
      "cell_type": "markdown",
      "metadata": {
        "id": "SR7ISnUEK09Y",
        "colab_type": "text"
      },
      "source": [
        "##Step 6: Look at the code below as a group, guess what it will do, then run the code to check. What do the results mean? What do the axes represent? What's wrong with the result?"
      ]
    },
    {
      "cell_type": "code",
      "metadata": {
        "id": "dKmFTuXFKNDx",
        "colab_type": "code",
        "colab": {}
      },
      "source": [
        "df['hangout'].value_counts().plot.bar()"
      ],
      "execution_count": 0,
      "outputs": []
    },
    {
      "cell_type": "markdown",
      "metadata": {
        "id": "8e4CacnJLupG",
        "colab_type": "text"
      },
      "source": [
        "##Step 7: Look at the code below as a group, guess what it will do, then run the code to check. What's wrong with the result?"
      ]
    },
    {
      "cell_type": "code",
      "metadata": {
        "id": "H8aQMD3VL1Al",
        "colab_type": "code",
        "colab": {}
      },
      "source": [
        "df['hangout'].value_counts().sort_index().plot.bar()"
      ],
      "execution_count": 0,
      "outputs": []
    },
    {
      "cell_type": "markdown",
      "metadata": {
        "id": "Sta1J-AYOrVB",
        "colab_type": "text"
      },
      "source": [
        "##Step 8: Look at the code below as a group, guess what it will do, then run the code to check. What do the results mean?"
      ]
    },
    {
      "cell_type": "code",
      "metadata": {
        "id": "YDDj3gVaMbZ1",
        "colab_type": "code",
        "colab": {}
      },
      "source": [
        "hangoutint = pd.to_numeric(df['hangout'],errors='coerce')\n",
        "hangoutint.value_counts().sort_index().plot.bar()"
      ],
      "execution_count": 0,
      "outputs": []
    },
    {
      "cell_type": "code",
      "metadata": {
        "id": "Pis6QFpqOkG5",
        "colab_type": "code",
        "colab": {}
      },
      "source": [
        ""
      ],
      "execution_count": 0,
      "outputs": []
    }
  ]
}