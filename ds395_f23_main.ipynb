{
  "nbformat": 4,
  "nbformat_minor": 0,
  "metadata": {
    "colab": {
      "provenance": [],
      "mount_file_id": "https://github.com/bsheese/ds395_f23/blob/main/ds395_f23_main.ipynb",
      "authorship_tag": "ABX9TyNisGc/ECYyIFhyjUzXrjhp",
      "include_colab_link": true
    },
    "kernelspec": {
      "name": "python3",
      "display_name": "Python 3"
    },
    "language_info": {
      "name": "python"
    }
  },
  "cells": [
    {
      "cell_type": "markdown",
      "metadata": {
        "id": "view-in-github",
        "colab_type": "text"
      },
      "source": [
        "<a href=\"https://colab.research.google.com/github/bsheese/377-AppliedDataAnalysis/blob/master/ds395_f23_main.ipynb\" target=\"_parent\"><img src=\"https://colab.research.google.com/assets/colab-badge.svg\" alt=\"Open In Colab\"/></a>"
      ]
    },
    {
      "cell_type": "markdown",
      "source": [
        "# DS395 - Capstone Project 1\n",
        "* Goals:\n",
        "  * Learn advanced skills in DS to better familiarize you with real world (and up-to-date) DS practices.\n",
        "  * Start to learn git.\n",
        "  * Start to learn to code outside of notebooks.\n",
        "\n",
        "* Project description:\n",
        "  * Participate in Kaggle's Home Credit Default Risk competition. Upload your submission, try to get into the top 1/3 of all submissions.\n",
        "  * Use (and learn) techniques deployed by top competitors in Kaggle's Amex Default Prediction competition, but apply them to the Home Credit Default Risk.\n",
        "\n",
        "* Resources\n",
        "  * [Home Credit Default Risk](https://www.kaggle.com/competitions/home-credit-default-risk/data)\n",
        "  * [Amex Default Prediction](https://www.kaggle.com/competitions/amex-default-prediction)\n",
        "  * For later: Credit Risk [publication](https://www.sciencedirect.com/science/article/pii/S0378426610002372?via%3Dihub): Example of time series analysis.\n"
      ],
      "metadata": {
        "id": "-E_YVRLq8GhF"
      }
    },
    {
      "cell_type": "code",
      "source": [
        "# @title Run this cell to mount drive, download or verify data\n",
        "import os\n",
        "from google.colab import drive\n",
        "import json\n",
        "\n",
        "\n",
        "API_TOKEN = {\"username\":\"titanvr1\",\"key\":\"9571a163b4a564f3e871b4a14b0e38b2\"}\n",
        "project_name = 'home_credit_default_risk'\n",
        "folder_path = \"/content/drive/My Drive/datasets/\"\n",
        "project_path = folder_path + project_name\n",
        "\n",
        "\n",
        "# mount drive\n",
        "drive.mount('/content/drive')\n",
        "\n",
        "\n",
        "# check if the project folder exists. If not, create it.\n",
        "if not os.path.exists(project_path):\n",
        "    os.makedirs(project_path)\n",
        "    print(f\"Folder {project_path} created\")\n",
        "else:\n",
        "    print(f\"Folder {project_path} already exists\")\n",
        "\n",
        "# function to set up authentication for kaggle\n",
        "def kaggle_colab_key_creation(api_token):\n",
        "\n",
        "  kfile_path = \"/root/.kaggle/kaggle.json\"\n",
        "\n",
        "  if os.path.exists(kfile_path) and os.path.isfile(kfile_path):\n",
        "    print('found kaggle key')\n",
        "\n",
        "  else:\n",
        "    !mkdir ~/.kaggle\n",
        "    !touch ~/.kaggle/kaggle.json\n",
        "\n",
        "    with open('/root/.kaggle/kaggle.json', 'w') as file:\n",
        "      json.dump(api_token, file)\n",
        "\n",
        "    !chmod 600 ~/.kaggle/kaggle.json\n",
        "    print('created kaggle key')\n",
        "\n",
        "# check to see if project folder has data in it, if not create and download data\n",
        "# TODO: retest this\n",
        "\n",
        "if not os.listdir(project_path):  # os.listdir() returns a list of the names of the entries in the directory\n",
        "    print(\"Folder is empty! Setting up kaggle authentication\")\n",
        "    kaggle_colab_key_creation(API_TOKEN)\n",
        "    print(\"Downloading data\")\n",
        "    !kaggle competitions download -c home-credit-default-risk -p {project_path}\n",
        "    print(\"Extracting data\")\n",
        "    !unzip /content/drive/MyDrive/datasets/home_credit_default_risk/home-credit-default-risk.zip\n",
        "else:\n",
        "    print(f\"Folder is not empty! Folder contains: {os.listdir()} \")\n"
      ],
      "metadata": {
        "cellView": "form",
        "id": "EgD316iDouDd"
      },
      "execution_count": null,
      "outputs": []
    },
    {
      "cell_type": "code",
      "source": [
        "import pandas as pd\n",
        "df = pd.read_csv('credit_card_balance.csv')"
      ],
      "metadata": {
        "id": "UPO_HkQtwtwx"
      },
      "execution_count": null,
      "outputs": []
    },
    {
      "cell_type": "code",
      "source": [
        "df.info()"
      ],
      "metadata": {
        "id": "ulshNyU2xBMB"
      },
      "execution_count": null,
      "outputs": []
    },
    {
      "cell_type": "code",
      "source": [
        "df.head()"
      ],
      "metadata": {
        "id": "vrj187L3xJkG"
      },
      "execution_count": null,
      "outputs": []
    },
    {
      "cell_type": "code",
      "source": [
        "import os\n",
        "os.environ['GITHUB_TOKEN'] = 'YOUR_TOKEN_HERE'"
      ],
      "metadata": {
        "id": "vV40lPcGegM9"
      },
      "execution_count": null,
      "outputs": []
    },
    {
      "cell_type": "code",
      "source": [
        "!git clone https://github.com/bsheese/ds395_f23.git"
      ],
      "metadata": {
        "id": "SqZLwPo6dwXa",
        "outputId": "d5041345-08fb-4acf-f602-39765bac9141",
        "colab": {
          "base_uri": "https://localhost:8080/"
        }
      },
      "execution_count": null,
      "outputs": [
        {
          "output_type": "stream",
          "name": "stdout",
          "text": [
            "Cloning into 'ds395_f23'...\n",
            "fatal: could not read Username for 'https://github.com': No such device or address\n"
          ]
        }
      ]
    }
  ]
}